{
 "cells": [
  {
   "cell_type": "code",
   "execution_count": 2,
   "metadata": {},
   "outputs": [
    {
     "name": "stdout",
     "output_type": "stream",
     "text": [
      "   Listing # St Property Type        Legal Description HOA Condo Fee  \\\n",
      "0     807958  S   Residential      3850 H C HUBER 30-1           NaN   \n",
      "1     807949  S   Residential      5285 H C HUBER 30-5           NaN   \n",
      "2     796085  S   Residential  9421 H C HUBER 40 SEC 3           NaN   \n",
      "3     813034  S   Residential      9362 H C HUBER 40-2           NaN   \n",
      "4     807947  S   Residential      3786 H C HUBER 30-1           NaN   \n",
      "\n",
      "              Address Original List Price List Price Sold Price  \\\n",
      "0   4450 Lambeth  Dr             $99,700    $99,700    $94,700    \n",
      "1  5907 Rosebury  Dr            $105,000   $105,000   $100,000    \n",
      "2   7754 Redbank  Ln            $123,400   $115,900   $112,350    \n",
      "3   7731 Bassett  Dr            $115,000   $115,000   $122,000    \n",
      "4   4331 Lambeth  Dr            $101,700   $101,700    $92,000    \n",
      "\n",
      "   RATIO Close Price By Original List Price  ...  Financing  \\\n",
      "0                                   0.94985  ...       Cash   \n",
      "1                                   0.95238  ...       Cash   \n",
      "2                                   0.91045  ...        FHA   \n",
      "3                                   1.06087  ...         VA   \n",
      "4                                   0.90462  ...       Cash   \n",
      "\n",
      "   Status Contractual Search Date  Sold Date School District Postal Code  \\\n",
      "0                       6/11/2020  6/11/2020   Huber Heights       45424   \n",
      "1                       5/28/2020  5/28/2020   Huber Heights       45424   \n",
      "2                       1/17/2020  1/17/2020   Huber Heights       45424   \n",
      "3                       4/28/2020  4/28/2020   Huber Heights       45424   \n",
      "4                       4/27/2020  4/27/2020   Huber Heights       45424   \n",
      "\n",
      "  Acres  Year Built  Beds Total       TB  Sq Ft Total  \n",
      "0  0.19        1957           3   2 (2 )        1,080  \n",
      "1  0.16        1959           4   2 (2 )        1,320  \n",
      "2  0.18        1968           4   2 (2 )        1,574  \n",
      "3  0.18        1967           3  2 (1 1)        1,170  \n",
      "4  0.17        1951           3   2 (2 )        1,404  \n",
      "\n",
      "[5 rows x 22 columns]\n"
     ]
    }
   ],
   "source": [
    "import pandas as pd\n",
    "import matplotlib.pyplot as plt\n",
    "import seaborn as sns\n",
    "\n",
    "# Load the data\n",
    "data = pd.read_csv(\"C:/Users/wasim/OneDrive/Desktop/2025/Regression Analysis/Regression-Analysis-General-Market-Trends.csv\")\n",
    "print(data.head())\n",
    "\n",
    "# Clean the 'List Price' and 'Sold Price' columns by removing special characters and converting them to numeric\n",
    "data['List Price'] = data['List Price'].replace('[\\$,]', '', regex=True).astype(float)\n",
    "data['Sold Price'] = data['Sold Price'].replace('[\\$,]', '', regex=True).astype(float)\n",
    "\n",
    "# Check for missing values\n",
    "data.isnull().sum()\n",
    "\n",
    "# Handle missing values\n",
    "data = data.dropna()"
   ]
  },
  {
   "cell_type": "code",
   "execution_count": 3,
   "metadata": {},
   "outputs": [],
   "source": [
    "# Convert 'Sold Date' to datetime format because it's not already\n",
    "data['Sold Date'] = pd.to_datetime(data['Sold Date'])\n",
    "\n",
    "# Extract Year and Quarter\n",
    "data['Year'] = data['Sold Date'].dt.year\n",
    "data['Quarter'] = data['Sold Date'].dt.to_period('Q')"
   ]
  },
  {
   "cell_type": "code",
   "execution_count": 7,
   "metadata": {},
   "outputs": [
    {
     "name": "stdout",
     "output_type": "stream",
     "text": [
      "Annual Sale Price Average:\n",
      " Year\n",
      "2020     74885.714286\n",
      "2021     99000.000000\n",
      "2022    106483.625000\n",
      "2023    137400.000000\n",
      "2024    140057.142857\n",
      "Name: Sold Price, dtype: float64\n",
      "Quarterly Sale Price Average:\n",
      " Quarter\n",
      "2020Q1     74450.000000\n",
      "2020Q2     70933.333333\n",
      "2020Q3     67500.000000\n",
      "2020Q4     95000.000000\n",
      "2021Q1    120000.000000\n",
      "2021Q2     91500.000000\n",
      "2021Q3     95625.000000\n",
      "2021Q4     88500.000000\n",
      "2022Q1     96705.500000\n",
      "2022Q2     90000.000000\n",
      "2022Q3    126966.666667\n",
      "2022Q4     93779.000000\n",
      "2023Q1    127000.000000\n",
      "2023Q2    146600.000000\n",
      "2023Q3    150000.000000\n",
      "2023Q4    122500.000000\n",
      "2024Q2    151680.000000\n",
      "2024Q4    111000.000000\n",
      "Freq: Q-DEC, Name: Sold Price, dtype: float64\n"
     ]
    }
   ],
   "source": [
    "# Annual and Quarterly Sale Price Average\n",
    "annual_sale_price_avg = data.groupby('Year')['Sold Price'].mean()\n",
    "quarterly_sale_price_avg = data.groupby('Quarter')['Sold Price'].mean()\n",
    "\n",
    "# Print the results\n",
    "print(\"Annual Sale Price Average:\\n\", annual_sale_price_avg)\n",
    "print(\"Quarterly Sale Price Average:\\n\", quarterly_sale_price_avg)"
   ]
  }
 ],
 "metadata": {
  "kernelspec": {
   "display_name": "base",
   "language": "python",
   "name": "python3"
  },
  "language_info": {
   "codemirror_mode": {
    "name": "ipython",
    "version": 3
   },
   "file_extension": ".py",
   "mimetype": "text/x-python",
   "name": "python",
   "nbconvert_exporter": "python",
   "pygments_lexer": "ipython3",
   "version": "3.11.7"
  }
 },
 "nbformat": 4,
 "nbformat_minor": 2
}
